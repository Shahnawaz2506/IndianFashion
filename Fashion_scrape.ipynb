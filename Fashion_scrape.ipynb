{
  "nbformat": 4,
  "nbformat_minor": 0,
  "metadata": {
    "colab": {
      "provenance": [],
      "authorship_tag": "ABX9TyPZhzJIswNzqxI3VZY5JRKN",
      "include_colab_link": true
    },
    "kernelspec": {
      "name": "python3",
      "display_name": "Python 3"
    },
    "language_info": {
      "name": "python"
    }
  },
  "cells": [
    {
      "cell_type": "markdown",
      "metadata": {
        "id": "view-in-github",
        "colab_type": "text"
      },
      "source": [
        "<a href=\"https://colab.research.google.com/github/Shahnawaz2506/IndianFashion/blob/main/Fashion_scrape.ipynb\" target=\"_parent\"><img src=\"https://colab.research.google.com/assets/colab-badge.svg\" alt=\"Open In Colab\"/></a>"
      ]
    },
    {
      "cell_type": "code",
      "source": [
        "# !apt-get update\n",
        "# !apt install chromium-chromedriver\n",
        "# !pip install selenium\n"
      ],
      "metadata": {
        "id": "KtViWjwf4lOD"
      },
      "execution_count": null,
      "outputs": []
    },
    {
      "cell_type": "code",
      "source": [
        "from selenium import webdriver\n",
        "from selenium.webdriver.chrome.service import Service\n",
        "from selenium.webdriver.common.by import By\n",
        "from selenium.webdriver.common.keys import Keys\n",
        "import time\n",
        "service = Service(executable_path=r'E:\\Downloads\\chromedriver-win64\\chromedriver-win64\\chromedriver.exe')\n",
        "options = webdriver.ChromeOptions()\n",
        "# options.add_argument('--headless')\n",
        "# options.add_argument('--no-sandbox')\n",
        "# options.add_argument('--disable-dev-shm-usage')\n"
      ],
      "metadata": {
        "id": "6YZG0wne4sLj"
      },
      "execution_count": null,
      "outputs": []
    },
    {
      "cell_type": "code",
      "source": [
        "# Initialize Chrome driver\n",
        "driver = webdriver.Chrome(service=service, options=options)\n",
        "driver.maximize_window()\n",
        "img_dict={\"https://www.nykaafashion.com/women/indianwear/salwar-suits-and-sets/c/69\":[],\n",
        "\"https://www.nykaafashion.com/women/indianwear/top-and-tunics/c/7630\":[],\n",
        "\"https://www.nykaafashion.com/women/indianwear/kurtis-kurtas-and-tunics/c/662\":[],\n",
        "\"https://www.nykaafashion.com/women/indianwear/lehengas/c/652\":[],\n",
        "\"https://www.nykaafashion.com/women/indianwear/sarees/c/10\":[],\n",
        "\"https://www.nykaafashion.com/women/indianwear/palazzos/c/156\":[]}\n",
        "\n",
        "# URL of the website to scrape\n",
        "\n",
        "\n",
        "# Open the website\n",
        "for url in img_dict.keys():\n",
        "    driver.get(url)\n",
        "    for _ in range(40):\n",
        "        try:\n",
        "            driver.find_element(By.TAG_NAME,'body').send_keys(Keys.PAGE_DOWN)\n",
        "            driver.find_element(By.TAG_NAME,'body').send_keys(Keys.PAGE_DOWN)\n",
        "            time.sleep(.5)\n",
        "            elements1 = [elem.get_attribute('src') for elem in driver.find_elements(By.XPATH,'//div[@class=\"css-1ago99h\"]//img[@src]')]\n",
        "            img_dict[url]+=elements1\n",
        "            print(len(img_dict[url]),url[47:])\n",
        "        except:pass\n"
      ],
      "metadata": {
        "id": "yMM3oYK-4sKn"
      },
      "execution_count": null,
      "outputs": []
    },
    {
      "cell_type": "code",
      "source": [
        "img_dict2={k:list(set(v)) for k,v in img_dict.items()}\n",
        "{k:len(v) for k,v in img_dict2.items()}"
      ],
      "metadata": {
        "colab": {
          "base_uri": "https://localhost:8080/"
        },
        "id": "MCZJrhE249Kp",
        "outputId": "96cf755a-cab7-4ab5-efa5-15b7dde04318"
      },
      "execution_count": null,
      "outputs": [
        {
          "output_type": "execute_result",
          "data": {
            "text/plain": [
              "{'https://www.nykaafashion.com/women/indianwear/salwar-suits-and-sets/c/69': 557,\n",
              " 'https://www.nykaafashion.com/women/indianwear/top-and-tunics/c/7630': 256,\n",
              " 'https://www.nykaafashion.com/women/indianwear/kurtis-kurtas-and-tunics/c/662': 110,\n",
              " 'https://www.nykaafashion.com/women/indianwear/lehengas/c/652': 254,\n",
              " 'https://www.nykaafashion.com/women/indianwear/sarees/c/10': 426,\n",
              " 'https://www.nykaafashion.com/women/indianwear/palazzos/c/156': 252}"
            ]
          },
          "metadata": {},
          "execution_count": 3
        }
      ]
    },
    {
      "cell_type": "code",
      "source": [
        "import requests\n",
        "import random\n",
        "\n",
        "# Send a GET request to the image URL\n",
        "for category,urls in img_dict2.items():\n",
        "    cat=category[46:].split(\"/\")[0]\n",
        "    for url in urls:\n",
        "        loc1=r\"E:/Downloads/Nykaa/training/\"+cat+\"/\"\n",
        "        if random.random()>.8:loc1=r\"E:/Downloads/Nykaa/test/\"+cat+\"/\"\n",
        "        elif random.random()>.6:loc1=r\"E:/Downloads/Nykaa/validation/\"+cat+\"/\"\n",
        "        response = requests.get(url)\n",
        "        name=url.split(\"/\")[-1].split(\"?\")[0]\n",
        "        image_content = response.content\n",
        "        with open(loc1+name+'.jpg', 'wb') as f:\n",
        "            f.write(image_content)\n"
      ],
      "metadata": {
        "id": "r8meBcyU_LFv"
      },
      "execution_count": null,
      "outputs": []
    },
    {
      "cell_type": "code",
      "source": [
        "import os\n",
        "import csv\n",
        "csv_output_path = r\"E:/Downloads/inputFile.csv\"\n",
        "def write_csv(fName, row_data):\n",
        "    with open(fName, 'a', newline='\\n') as myfile:\n",
        "        wr = csv.writer(myfile,  delimiter = \",\")\n",
        "        wr.writerow(row_data)\n",
        "\n",
        "os.chdir(r\"E:\\Downloads\\Nykaa\")\n",
        "for data in os.listdir():\n",
        "    data1=\"Train/\" if data==\"training\" else \"Test/\"\n",
        "    for label in os.listdir(data):\n",
        "        for file in os.listdir(data+\"/\"+label):\n",
        "            row_data = [ data , \"gs://sq-personal/Nykaa/\"+data1+label+\"/\"+file , label ]\n",
        "            write_csv( csv_output_path , row_data)"
      ],
      "metadata": {
        "id": "h8nqsFZK2nCD"
      },
      "execution_count": null,
      "outputs": []
    },
    {
      "cell_type": "code",
      "source": [
        "295/ sum([53, 119, 105, 295, 202, 128])"
      ],
      "metadata": {
        "colab": {
          "base_uri": "https://localhost:8080/"
        },
        "id": "0SHmftNHBYqX",
        "outputId": "4253e638-5c93-4219-ba02-e2007b37ac69"
      },
      "execution_count": null,
      "outputs": [
        {
          "output_type": "execute_result",
          "data": {
            "text/plain": [
              "0.3270509977827051"
            ]
          },
          "metadata": {},
          "execution_count": 6
        }
      ]
    },
    {
      "cell_type": "code",
      "source": [],
      "metadata": {
        "id": "WEn34z7XBaD5"
      },
      "execution_count": null,
      "outputs": []
    }
  ]
}